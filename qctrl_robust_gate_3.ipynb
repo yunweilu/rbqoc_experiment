{
 "cells": [
  {
   "cell_type": "code",
   "execution_count": 1,
   "metadata": {},
   "outputs": [],
   "source": [
    "import time\n",
    "import warnings\n",
    "from pathlib import Path\n",
    "import jsonpickle\n",
    "import jsonpickle.ext.numpy as jsonpickle_numpy\n",
    "jsonpickle_numpy.register_handlers()\n",
    "import numpy as np\n",
    "import scipy\n",
    "import matplotlib.pyplot as plt\n",
    "import qctrlvisualizer as qv\n",
    "import boulderopal as bo\n",
    "import os\n",
    "resources_path = os.path.normpath(os.path.join(os.getcwd(), \"dr7run6_te62fnal001_qoc_qctrl/waveforms\"))\n",
    "\n",
    "plt.style.use(qv.get_qctrl_style())\n",
    "\n",
    "# Disable warning from qiskit.\n",
    "warnings.filterwarnings(\"ignore\")"
   ]
  },
  {
   "cell_type": "code",
   "execution_count": 2,
   "metadata": {},
   "outputs": [],
   "source": [
    "# Read and write helper functions, type independent.\n",
    "def save_variable(file_name, var):\n",
    "    \"\"\"\n",
    "    Save a single variable to a file using jsonpickle.\n",
    "    \"\"\"\n",
    "    with open(file_name, \"w+\") as file:\n",
    "        file.write(jsonpickle.encode(var))\n",
    "\n",
    "\n",
    "def load_variable(file_name):\n",
    "    \"\"\"\n",
    "    Load a variable from a file encoded with jsonpickle.\n",
    "    \"\"\"\n",
    "    with open(file_name, \"r+\") as file:\n",
    "        return jsonpickle.decode(file.read())\n",
    "\n",
    "two_pi = 2 * np.pi\n",
    "\n",
    "def get_time():\n",
    "    return \" \"+time.strftime(r'%Y-%m-%d %H-%M-%S',time.localtime())\n",
    "\n",
    "# Flag to read long optimization results from files."
   ]
  },
  {
   "cell_type": "code",
   "execution_count": 3,
   "metadata": {},
   "outputs": [],
   "source": [
    "# Parameters.\n",
    "giga = 1e9\n",
    "mega = 1e6\n",
    "nano = 1e-9\n",
    "\n",
    "colors = {\n",
    "    \"Q-CTRL\": qv.QCTRL_STYLE_COLORS[0],\n",
    "    \"Amplitude robust\": qv.QCTRL_STYLE_COLORS[0],\n",
    "    \"Square\": qv.QCTRL_STYLE_COLORS[1],\n",
    "    \"IBM default X-gate\": qv.QCTRL_STYLE_COLORS[2],\n",
    "}\n",
    "\n",
    "bloch_colors = {\n",
    "    \"x\": qv.QCTRL_STYLE_COLORS[0],\n",
    "    \"y\": qv.QCTRL_STYLE_COLORS[1],\n",
    "    \"z\": qv.QCTRL_STYLE_COLORS[2],\n",
    "}\n",
    "bloch_markers = {\"x\": \"x\", \"y\": \"s\", \"z\": \"o\"}\n",
    "bloch_lines = {\"x\": \"--\", \"y\": \"-.\", \"z\": \"-\"}\n",
    "bloch_basis = [\"x\", \"y\", \"z\"]"
   ]
  },
  {
   "cell_type": "code",
   "execution_count": 4,
   "metadata": {},
   "outputs": [],
   "source": [
    "X_gate = np.array([[0.0, 1.0], [1.0, 0.0]], dtype=complex)\n",
    "X90_gate = np.array([[1.0, -1j], [-1j, 1.0]], dtype=complex) / np.sqrt(2)\n",
    "Y90_gate = np.array([[1.0, -1], [1.0, 1.0]], dtype=complex) / np.sqrt(2)\n",
    "X90n_gate = np.array([[-1j, 1.0], [1.0, -1j]], dtype=complex) / np.sqrt(2)\n",
    "Y90n_gate = np.array([[1.0, 1.0], [-1.0, 1.0]], dtype=complex) / np.sqrt(2)"
   ]
  },
  {
   "cell_type": "code",
   "execution_count": 5,
   "metadata": {},
   "outputs": [
    {
     "name": "stdout",
     "output_type": "stream",
     "text": [
      "duration:  20.0\n"
     ]
    }
   ],
   "source": [
    "number_of_segments = {}\n",
    "number_of_optimization_variables = {}\n",
    "cutoff_frequency = {}\n",
    "segment_scale = {}\n",
    "duration_int = {}\n",
    "duration = {}\n",
    "\n",
    "scheme_names = [\"Q-CTRL\"]\n",
    "rabi_rotation = np.pi\n",
    "number_of_runs = 200\n",
    "omega_max = 2 * np.pi * 55e6 * np.sqrt(2)\n",
    "I_max = omega_max / np.sqrt(2)\n",
    "Q_max = omega_max / np.sqrt(2)\n",
    "\n",
    "pluse_duration = 20 * nano\n",
    "dt = 1 * nano\n",
    "\n",
    "# Dephasing-robust pulse parameters.\n",
    "number_of_optimization_variables[\"Q-CTRL\"] = 20\n",
    "number_of_segments[\"Q-CTRL\"] = int(pluse_duration / dt)\n",
    "segment_scale[\"Q-CTRL\"] = 1\n",
    "cutoff_frequency[\"Q-CTRL\"] = 1000 * mega\n",
    "duration[\"Q-CTRL\"] = number_of_segments[\"Q-CTRL\"] * segment_scale[\"Q-CTRL\"] * dt\n",
    "print(\"duration: \",duration[\"Q-CTRL\"] * 1e9)"
   ]
  },
  {
   "cell_type": "code",
   "execution_count": 6,
   "metadata": {},
   "outputs": [],
   "source": [
    "graph = bo.Graph()"
   ]
  },
  {
   "cell_type": "code",
   "execution_count": 7,
   "metadata": {},
   "outputs": [],
   "source": [
    "I_values = graph.optimization_variable(\n",
    "        count=number_of_optimization_variables[\"Q-CTRL\"],\n",
    "        lower_bound=-I_max,\n",
    "        upper_bound=I_max,\n",
    "    )\n",
    "Q_values = graph.optimization_variable(\n",
    "    count=number_of_optimization_variables[\"Q-CTRL\"],\n",
    "    lower_bound=-Q_max,\n",
    "    upper_bound=Q_max,\n",
    ")"
   ]
  },
  {
   "cell_type": "code",
   "execution_count": 8,
   "metadata": {},
   "outputs": [],
   "source": [
    "# Anchor ends to zero with amplitude rise/fall envelope.\n",
    "time_points = np.linspace(\n",
    "    -1.0, 1.0, number_of_optimization_variables[\"Q-CTRL\"] + 2\n",
    ")[1:-1]\n",
    "envelope_function = 1.0 - np.abs(time_points)\n",
    "envelope_function = envelope_function - envelope_function[0]\n",
    "I_values = I_values * envelope_function\n",
    "Q_values = Q_values * envelope_function"
   ]
  },
  {
   "cell_type": "code",
   "execution_count": 9,
   "metadata": {},
   "outputs": [],
   "source": [
    "# Create I & Q signals.\n",
    "I_signal = graph.pwc_signal(values=I_values, duration=duration[\"Q-CTRL\"])\n",
    "Q_signal = graph.pwc_signal(values=Q_values, duration=duration[\"Q-CTRL\"])"
   ]
  },
  {
   "cell_type": "code",
   "execution_count": 10,
   "metadata": {},
   "outputs": [],
   "source": [
    "# Apply the sinc filter and re-discretize signals.\n",
    "I_signal = graph.filter_and_resample_pwc(\n",
    "    pwc=I_signal,\n",
    "    kernel=graph.sinc_convolution_kernel(cutoff_frequency[\"Q-CTRL\"]),\n",
    "    segment_count=number_of_segments[\"Q-CTRL\"],\n",
    "    name=\"I\",\n",
    ")\n",
    "Q_signal = graph.filter_and_resample_pwc(\n",
    "    pwc=Q_signal,\n",
    "    kernel=graph.sinc_convolution_kernel(cutoff_frequency[\"Q-CTRL\"]),\n",
    "    segment_count=number_of_segments[\"Q-CTRL\"],\n",
    "    name=\"Q\",\n",
    ")"
   ]
  },
  {
   "cell_type": "code",
   "execution_count": 11,
   "metadata": {},
   "outputs": [],
   "source": [
    "# Create Hamiltonian control terms.\n",
    "I_term = I_signal * graph.pauli_matrix(\"X\") / 2.0\n",
    "Q_term = Q_signal * graph.pauli_matrix(\"Y\") / 2.0\n",
    "\n",
    "control_hamiltonian = I_term + Q_term"
   ]
  },
  {
   "cell_type": "code",
   "execution_count": 12,
   "metadata": {},
   "outputs": [],
   "source": [
    "# Create dephasing noise term.\n",
    "dephasing = graph.constant_pwc_operator(\n",
    "    duration=duration[\"Q-CTRL\"],\n",
    "    operator=graph.pauli_matrix(\"Z\") / 2.0 / duration[\"Q-CTRL\"],\n",
    ")"
   ]
  },
  {
   "cell_type": "code",
   "execution_count": 13,
   "metadata": {},
   "outputs": [],
   "source": [
    " # Create infidelity.\n",
    "infidelity = graph.infidelity_pwc(\n",
    "    hamiltonian=control_hamiltonian,\n",
    "    target=graph.target(Y90n_gate),\n",
    "    name=\"infidelity\",\n",
    ")"
   ]
  },
  {
   "cell_type": "code",
   "execution_count": 14,
   "metadata": {},
   "outputs": [
    {
     "name": "stdout",
     "output_type": "stream",
     "text": [
      "Your task (action_id=\"2044066\") is queued.\n",
      "Your task (action_id=\"2044066\") has completed.\n"
     ]
    }
   ],
   "source": [
    "result = bo.run_optimization(\n",
    "    graph=graph,\n",
    "    cost_node_name=\"infidelity\",\n",
    "    noise_operators=[dephasing],\n",
    "    output_node_names=[\"I\", \"Q\"],\n",
    "    optimization_count=40,\n",
    ")"
   ]
  },
  {
   "cell_type": "code",
   "execution_count": 15,
   "metadata": {},
   "outputs": [
    {
     "name": "stdout",
     "output_type": "stream",
     "text": [
      "Cost: 5.773159728050814e-15\n"
     ]
    }
   ],
   "source": [
    "print(f\"Cost: {result['cost']}\")\n",
    "robust_dephasing_controls = {}\n",
    "robust_dephasing_controls[\"Q-CTRL\"] = result[\"output\"]"
   ]
  },
  {
   "cell_type": "code",
   "execution_count": 16,
   "metadata": {},
   "outputs": [
    {
     "data": {
      "text/plain": [
       "{'cost': 5.773159728050814e-15,\n",
       " 'output': {'I': {'values': array([ 3.27345985e+07,  4.82590370e+07,  2.43315734e+07, -3.49554468e+07,\n",
       "          -9.64444472e+07, -1.17578798e+08, -7.60689222e+07,  1.18404569e+07,\n",
       "           9.89150253e+07,  1.36314970e+08,  1.04750258e+08,  2.58119177e+07,\n",
       "          -5.38240974e+07, -9.33060422e+07, -8.16905512e+07, -3.96543499e+07,\n",
       "          -3.68043955e+05,  1.44815068e+07,  6.14914601e+06, -8.14945146e+06]),\n",
       "   'durations': array([1.e-09, 1.e-09, 1.e-09, 1.e-09, 1.e-09, 1.e-09, 1.e-09, 1.e-09,\n",
       "          1.e-09, 1.e-09, 1.e-09, 1.e-09, 1.e-09, 1.e-09, 1.e-09, 1.e-09,\n",
       "          1.e-09, 1.e-09, 1.e-09, 1.e-09]),\n",
       "   'time_dimension': 0},\n",
       "  'Q': {'values': array([ 1.38886404e+07,  2.85211678e+07,  2.74620781e+07,  5.88502566e+05,\n",
       "          -5.10542724e+07, -1.14724695e+08, -1.72257532e+08, -2.09024691e+08,\n",
       "          -2.19931561e+08, -2.09261870e+08, -1.85622531e+08, -1.56275147e+08,\n",
       "          -1.24705357e+08, -9.21107167e+07, -6.03355863e+07, -3.30977258e+07,\n",
       "          -1.43723088e+07, -5.55366607e+06, -4.11581177e+06, -5.13256203e+06]),\n",
       "   'durations': array([1.e-09, 1.e-09, 1.e-09, 1.e-09, 1.e-09, 1.e-09, 1.e-09, 1.e-09,\n",
       "          1.e-09, 1.e-09, 1.e-09, 1.e-09, 1.e-09, 1.e-09, 1.e-09, 1.e-09,\n",
       "          1.e-09, 1.e-09, 1.e-09, 1.e-09]),\n",
       "   'time_dimension': 0}},\n",
       " 'metadata': {'cost_evaluation_count': 10, 'action_id': '2044066'},\n",
       " 'cost_history': {}}"
      ]
     },
     "execution_count": 16,
     "metadata": {},
     "output_type": "execute_result"
    }
   ],
   "source": [
    "result"
   ]
  },
  {
   "cell_type": "code",
   "execution_count": 17,
   "metadata": {},
   "outputs": [
    {
     "data": {
      "image/png": "[encoded data removed]",
      "text/plain": [
       "<Figure size 720x360 with 2 Axes>"
      ]
     },
     "metadata": {},
     "output_type": "display_data"
    }
   ],
   "source": [
    "qv.plot_controls(robust_dephasing_controls[\"Q-CTRL\"])"
   ]
  },
  {
   "cell_type": "code",
   "execution_count": 18,
   "metadata": {},
   "outputs": [],
   "source": [
    "fname = \"qoc_y_pi2n_20ns\"\n",
    "save_variable(resources_path+\"/\"+fname, result)"
   ]
  },
  {
   "cell_type": "code",
   "execution_count": null,
   "metadata": {},
   "outputs": [],
   "source": []
  }
 ],
 "metadata": {
  "kernelspec": {
   "display_name": "opal-env4",
   "language": "python",
   "name": "python3"
  },
  "language_info": {
   "codemirror_mode": {
    "name": "ipython",
    "version": 3
   },
   "file_extension": ".py",
   "mimetype": "text/x-python",
   "name": "python",
   "nbconvert_exporter": "python",
   "pygments_lexer": "ipython3",
   "version": "3.10.14"
  }
 },
 "nbformat": 4,
 "nbformat_minor": 2
}
