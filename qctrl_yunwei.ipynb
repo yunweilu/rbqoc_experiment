{
 "cells": [
  {
   "cell_type": "code",
   "execution_count": 1,
   "metadata": {},
   "outputs": [
    {
     "name": "stdout",
     "output_type": "stream",
     "text": [
      "Boulder Opal client update available.\n",
      "Latest version is 2.1.2, you have 1.4.0.\n",
      "Visit https://docs.q-ctrl.com/boulder-opal/changelog for the latest product updates.\n"
     ]
    }
   ],
   "source": [
    "# Import packages.\n",
    "import numpy as np\n",
    "import matplotlib.pyplot as plt\n",
    "import qctrlvisualizer\n",
    "import boulderopal as bo\n",
    "import qutip as qt\n",
    "import scipy.special as sp\n",
    "import qctrlvisualizer as qv\n",
    "import os\n",
    "import jsonpickle\n",
    "\n",
    "# Apply Q-CTRL style to plots created in pyplot.\n",
    "plt.style.use(qctrlvisualizer.get_qctrl_style())"
   ]
  },
  {
   "cell_type": "code",
   "execution_count": 2,
   "metadata": {},
   "outputs": [],
   "source": [
    "def pulses_der(x, paras,total_time,angle,anh):\n",
    "    control = -2*np.pi/total_time*(paras[0]-angle/2)*np.sin(2*np.pi/total_time*x)\n",
    "    for i in range(len(paras)):\n",
    "        if i==len(paras)-1:\n",
    "            control += -2*(i+2)*np.pi/total_time*(-paras[i])*np.sin(2*(i+2)*np.pi/total_time*x)\n",
    "        else:\n",
    "            control += -2*(i+2)*np.pi/total_time*(paras[i+1]-paras[i])*np.sin(2*(i+2)*np.pi/total_time*x)\n",
    "    return -control/(2*anh)/total_time\n",
    "# initial guess for x-quadrature control\n",
    "def pulses(x, paras,total_time,angle):\n",
    "    control = angle/2 + (paras[0]-angle/2)*np.cos(2*np.pi/total_time*x)\n",
    "    for i in range(len(paras)):\n",
    "        if i==len(paras)-1:\n",
    "            control += (-paras[i])*np.cos(2*(i+2)*np.pi/total_time*x)\n",
    "        else:\n",
    "            control += (paras[i+1]-paras[i])*np.cos(2*(i+2)*np.pi/total_time*x)\n",
    "    return control/total_time\n",
    "from itertools import product\n",
    "def initial_list(segment_count, duration, anh, angle, alpha_max):\n",
    "    # Define the range for a, b, c\n",
    "    parameter_range = np.arange(-6, 8, 2)\n",
    "    times = np.linspace(0, duration, segment_count)\n",
    "\n",
    "    # Generate all combinations of a, b, c\n",
    "    parameter_combinations = list(product(parameter_range, repeat=3))\n",
    "\n",
    "    # Initialize lists to store I_initials and Q_initials for each combination\n",
    "    I_initials_list = []\n",
    "    Q_initials_list = []\n",
    "\n",
    "    # Helper function to cap absolute values at alpha_max\n",
    "    def cap_amplitude(arr, max_val):\n",
    "        return np.clip(arr, -max_val, max_val)\n",
    "\n",
    "    # Generate I_initials and Q_initials for each combination\n",
    "    for a, b, c in parameter_combinations:\n",
    "        I_initials = pulses(times, (a, b, c), duration, angle)\n",
    "        Q_initials = pulses_der(times, (a, b, c), duration, angle, anh)\n",
    "        \n",
    "        # Cap the amplitudes at alpha_max\n",
    "        I_initials_capped = cap_amplitude(I_initials, alpha_max)\n",
    "        Q_initials_capped = cap_amplitude(Q_initials, alpha_max)\n",
    "        \n",
    "        I_initials_list.append(I_initials_capped)\n",
    "        Q_initials_list.append(Q_initials_capped)\n",
    "\n",
    "\n",
    "    return I_initials_list, Q_initials_list"
   ]
  },
  {
   "cell_type": "code",
   "execution_count": 3,
   "metadata": {},
   "outputs": [
    {
     "name": "stdout",
     "output_type": "stream",
     "text": [
      "Q-CTRL authentication successful!\n"
     ]
    }
   ],
   "source": [
    "bo.cloud.authenticate(api_key=\"L22oSBrX9bNTV7xvghbrMbI7JJeSTnI0u0gEolBYzrrJxhLOfu\")"
   ]
  },
  {
   "cell_type": "code",
   "execution_count": 4,
   "metadata": {},
   "outputs": [],
   "source": [
    "graph = bo.Graph()"
   ]
  },
  {
   "cell_type": "code",
   "execution_count": 6,
   "metadata": {},
   "outputs": [],
   "source": [
    "# Pulse parameters.\n",
    "#pulse amplitude constraint\n",
    "alpha_max = 2*np.pi* 60e6  # rad/s\n",
    "#np.pi/2 is pi/2 gate, np.pi would be pi gate\n",
    "angle = np.pi/2\n",
    "\n",
    "anh = -2 * np.pi * 245.3844e6\n",
    "segment_count = 40\n",
    "duration = segment_count * 1e-9  # s\n",
    "I_initials,Q_initials = initial_list(segment_count, duration, anh, angle,alpha_max)"
   ]
  },
  {
   "cell_type": "code",
   "execution_count": 7,
   "metadata": {},
   "outputs": [],
   "source": [
    "envelope_signal = graph.signals.cosine_pulse_pwc(\n",
    "    duration=duration, segment_count=segment_count, amplitude=1.0,flat_duration=0.9 * duration,\n",
    ")\n",
    "\n",
    "# Real PWC signal representing α(t).\n",
    "I = graph.real_optimizable_pwc_signal(\n",
    "    segment_count=segment_count,\n",
    "    duration=duration,\n",
    "    minimum=-alpha_max,\n",
    "    maximum=alpha_max,\n",
    "    initial_values= I_initials,\n",
    "    name=\"$\\\\I$\",\n",
    ")\n",
    "RI = graph.filter_and_resample_pwc(\n",
    "    pwc=I,\n",
    "    kernel=graph.sinc_convolution_kernel(5/duration*2*np.pi),\n",
    "    segment_count=segment_count,\n",
    "    name=\"$L(\\\\I)$\",\n",
    ")\n",
    "ORI = envelope_signal*RI\n",
    "ORI.name = \"$\\\\Omega L(\\\\I)$\"\n",
    "\n",
    "Q = graph.real_optimizable_pwc_signal(\n",
    "    segment_count=segment_count,\n",
    "    duration=duration,\n",
    "    minimum=-alpha_max,\n",
    "    maximum=alpha_max,\n",
    "    initial_values= Q_initials,\n",
    "    name=\"$\\\\Q$\",\n",
    ")\n",
    "RQ = graph.filter_and_resample_pwc(\n",
    "    pwc=Q,\n",
    "    kernel=graph.sinc_convolution_kernel(10/duration*2*np.pi),\n",
    "    segment_count=segment_count,\n",
    "    name=\"$L(\\\\Q)$\",\n",
    ")\n",
    "ORQ = envelope_signal*RQ\n",
    "ORQ.name = \"$\\\\Omega L(\\\\Q)$\""
   ]
  },
  {
   "cell_type": "code",
   "execution_count": 8,
   "metadata": {},
   "outputs": [],
   "source": [
    "dim = 5\n",
    "N_q = 5\n",
    "a_q = qt.destroy(N_q)\n",
    "n_q = a_q.dag() * a_q\n",
    "H0 =  1/2*anh* a_q.dag()**2 * a_q**2\n",
    "Hcx=a_q+a_q.dag()\n",
    "Hcy=-a_q*1j+1j*a_q.dag()\n",
    "H0=H0.full()\n",
    "Hcx=Hcx.full()\n",
    "Hcy=Hcy.full()\n",
    "detuning = 0.01*2*np.pi*1e9\n",
    "dephasing = detuning*a_q.dag()*a_q\n",
    "dephasing = dephasing.full()\n",
    "# Total Hamiltonian.\n",
    "hamiltonian = H0+ORI*Hcx+ORQ*Hcy"
   ]
  },
  {
   "cell_type": "code",
   "execution_count": 9,
   "metadata": {},
   "outputs": [],
   "source": [
    "import numpy as np\n",
    "def Rx(matrix,angle):\n",
    "    matrix[0,0]=np.cos(angle/2)\n",
    "    matrix[0,1]=-1j*np.sin(angle/2)\n",
    "    matrix[1,0]=-1j*np.sin(angle/2)\n",
    "    matrix[1,1]=np.cos(angle/2)\n",
    "    return matrix\n",
    "targets=np.zeros([dim ,dim ],dtype=complex)\n",
    "targets=Rx(targets,angle)\n",
    "#specify subspace fidelity\n",
    "qubit_projector = np.pad(np.eye(2), ((0, 3), (0, 3)), mode=\"constant\")\n",
    "target_operator = graph.target(\n",
    "    targets, filter_function_projector=qubit_projector\n",
    ")\n"
   ]
  },
  {
   "cell_type": "code",
   "execution_count": 10,
   "metadata": {},
   "outputs": [],
   "source": [
    "infidelity = graph.infidelity_pwc(\n",
    "    hamiltonian=hamiltonian,\n",
    "    target=target_operator,\n",
    "    name=\"infidelity\",\n",
    ")\n",
    "robust_infidelity = graph.infidelity_pwc(\n",
    "    hamiltonian=hamiltonian,\n",
    "    noise_operators=[np.array(dephasing)],\n",
    "    target=target_operator,\n",
    "    name=\"robust_infidelity\",\n",
    ")"
   ]
  },
  {
   "cell_type": "code",
   "execution_count": 11,
   "metadata": {},
   "outputs": [
    {
     "name": "stdout",
     "output_type": "stream",
     "text": [
      "Your task (action_id=\"2048966\") has started.\n",
      "Your task (action_id=\"2048966\") has completed.\n",
      "\n",
      "Optimized cost:\t3.531e-08\n"
     ]
    }
   ],
   "source": [
    "optimization_result = bo.run_optimization(\n",
    "    cost_node_name=\"robust_infidelity\",\n",
    "    output_node_names=[\"$\\\\I$\", \"$\\\\Q$\",\"$L(\\\\I)$\", \"$L(\\\\Q)$\",\"$\\\\Omega L(\\\\I)$\",\"$\\\\Omega L(\\\\Q)$\",],\n",
    "    graph=graph,\n",
    "    optimization_count=7**3,\n",
    ")\n",
    "\n",
    "print(f\"\\nOptimized cost:\\t{optimization_result['cost']:.3e}\")"
   ]
  },
  {
   "cell_type": "code",
   "execution_count": 12,
   "metadata": {},
   "outputs": [
    {
     "data": {
      "image/png": "[encoded data removed]",
      "text/plain": [
       "<Figure size 720x360 with 2 Axes>"
      ]
     },
     "metadata": {
      "needs_background": "light"
     },
     "output_type": "display_data"
    }
   ],
   "source": [
    "\n",
    "qv.plot_controls(\n",
    "    {\n",
    "        \"RI\": optimization_result[\"output\"][\"$\\\\Omega L(\\\\I)$\"],\n",
    "        \"RQ\": optimization_result[\"output\"][\"$\\\\Omega L(\\\\Q)$\"],\n",
    "    },\n",
    "    polar=False,\n",
    ")"
   ]
  },
  {
   "cell_type": "code",
   "execution_count": 13,
   "metadata": {},
   "outputs": [],
   "source": [
    "total_time = segment_count\n",
    "total_time_steps = segment_count\n",
    "k_q = anh/1e9\n",
    "controlI = []\n",
    "durations = optimization_result[\"output\"][\"$\\\\Omega L(\\\\I)$\"]['durations']\n",
    "results = optimization_result[\"output\"][\"$\\\\Omega L(\\\\I)$\"]['values']\n",
    "for i in range(len(durations)):\n",
    "    if durations[i]>1e-15:\n",
    "        controlI.append(results[i]/1e9)\n",
    "controlI = np.array(controlI)\n",
    "controlQ = []\n",
    "durations = optimization_result[\"output\"][\"$\\\\Omega L(\\\\Q)$\"]['durations']\n",
    "results = optimization_result[\"output\"][\"$\\\\Omega L(\\Q)$\"]['values']\n",
    "for i in range(len(durations)):\n",
    "    if durations[i]>1e-15:\n",
    "        controlQ.append(results[i]/1e9)\n",
    "controlQ = np.array(controlQ)\n",
    "pulse=[controlI,controlQ]\n",
    "# Qutip will do interpolation for drive, which distort piece-wise-constant control. \n",
    "# Here I manually do interpolation to make sure piece-wise-constant pulse.\n",
    "resolution = 100\n",
    "times = np.linspace(0, total_time, total_time_steps*resolution+1)\n",
    "times=np.delete(times, [len(times) - 1])\n",
    "osc_control=np.array([np.cos(2*np.pi*5*times),np.sin(2*np.pi*5*times)])\n",
    "best_controls=np.zeros_like(osc_control)\n",
    "for m in range(len(best_controls)):\n",
    "    for i in range(len(pulse[0])): \n",
    "        for j in range(resolution):\n",
    "            best_controls[m][i*resolution+j]=pulse[m][i]*(1)"
   ]
  },
  {
   "cell_type": "code",
   "execution_count": 14,
   "metadata": {},
   "outputs": [
    {
     "data": {
      "image/png": "[encoded data removed]",
      "text/plain": [
       "<Figure size 720x360 with 1 Axes>"
      ]
     },
     "metadata": {},
     "output_type": "display_data"
    }
   ],
   "source": [
    "def Rx(matrix,angle):\n",
    "    matrix[0,0]=np.cos(angle/2)\n",
    "    matrix[0,1]=-1j*np.sin(angle/2)\n",
    "    matrix[1,0]=-1j*np.sin(angle/2)\n",
    "    matrix[1,1]=np.cos(angle/2)\n",
    "    return matrix\n",
    "import qutip as qt\n",
    "from qutip import *\n",
    "import scipy.special as sp\n",
    "angle = np.pi/2\n",
    "target_states=np.zeros([N_q,N_q],dtype=complex)\n",
    "target_states=Rx(target_states,angle)\n",
    "U_ideal=qt.Qobj(target_states)\n",
    "\n",
    "a_q = destroy(N_q)\n",
    "n_q = a_q.dag() * a_q\n",
    "x_q = a_q + a_q.dag()\n",
    "cross = 0e-3 * 2*np.pi\n",
    "# without -1/2, strange result when change time origin\n",
    "H0 =  1/2*k_q * a_q.dag()**2 * a_q**2\n",
    "Hcx=a_q+a_q.dag()\n",
    "Hcy=-a_q*1j+1j*a_q.dag()\n",
    "H0=H0.data.toarray()\n",
    "Hcx=Hcx.data.toarray()\n",
    "Hcy=Hcy.data.toarray()\n",
    "H_controls=[Hcx,Hcy]\n",
    "\n",
    "#infidelity withought fluctuation\n",
    "import qutip as qt\n",
    "qt_H0=qt.Qobj(H0)\n",
    "\n",
    "qt_Hcx=qt.Qobj(H_controls[0])\n",
    "qt_Hcy=qt.Qobj(H_controls[1])\n",
    "qt_tlist=times\n",
    "\n",
    "fluc_oper=n_q\n",
    "fluc = np.linspace(-0.01,0.01,20)*2*np.pi\n",
    "infidelities=np.zeros(len(fluc))\n",
    "infidelities_robust=np.zeros(len(fluc))\n",
    "options = qt.Options(rtol=1e-10, atol=1e-10)\n",
    "U_ideal=qt.Qobj(target_states)\n",
    "for i in range(len(fluc)):\n",
    "    qt_H0=qt.Qobj(H0+fluc[i]*fluc_oper)\n",
    "    qt_tlist=times\n",
    "    qt_cx = best_controls[0]\n",
    "    qt_cy = best_controls[1]\n",
    "    qt_H=[qt_H0,[qt_Hcx,qt_cx],[qt_Hcy,qt_cy]]\n",
    "    output = qt.propagator(qt_H, qt_tlist, options=options)\n",
    "    infidelities[i]=1-np.abs(np.trace((U_ideal*output[-1].dag())))**2/4\n",
    "fig,ax=plt.subplots()\n",
    "ax.plot(fluc/(2*np.pi)*1e3,infidelities)\n",
    "ax.set_xlabel('Detuning frequency (MHz)')\n",
    "ax.set_ylabel('Infidelity')\n",
    "ax.scatter(fluc/(2*np.pi)*1e3,infidelities)\n",
    "ax.set_yscale('log')"
   ]
  },
  {
   "cell_type": "code",
   "execution_count": 15,
   "metadata": {},
   "outputs": [],
   "source": [
    "def save_variable(file_name, var):\n",
    "    \"\"\"\n",
    "    Save a single variable to a file using jsonpickle.\n",
    "    \"\"\"\n",
    "    with open(file_name, \"w\") as file:\n",
    "        encoded_var = jsonpickle.encode(var, unpicklable=True)\n",
    "        file.write(encoded_var)\n",
    "\n",
    "\n",
    "def load_variable(file_name):\n",
    "    \"\"\"\n",
    "    Load a variable from a file encoded with jsonpickle.\n",
    "    \"\"\"\n",
    "    with open(file_name, \"r\") as file:\n",
    "        decoded_var = jsonpickle.decode(file.read())\n",
    "        return decoded_var"
   ]
  },
  {
   "cell_type": "code",
   "execution_count": 19,
   "metadata": {},
   "outputs": [],
   "source": [
    "\n",
    "resources_path = os.path.normpath(os.path.join(os.getcwd(), \"../\"))"
   ]
  },
  {
   "cell_type": "code",
   "execution_count": 20,
   "metadata": {},
   "outputs": [],
   "source": [
    "fname = \"qoc_y_pi2n_40ns_2\"\n",
    "save_variable(resources_path+\"/\"+fname, optimization_result)"
   ]
  },
  {
   "cell_type": "code",
   "execution_count": null,
   "metadata": {},
   "outputs": [],
   "source": []
  },
  {
   "cell_type": "code",
   "execution_count": null,
   "metadata": {},
   "outputs": [],
   "source": []
  }
 ],
 "metadata": {
  "kernelspec": {
   "display_name": "opal-env4",
   "language": "python",
   "name": "python3"
  },
  "language_info": {
   "codemirror_mode": {
    "name": "ipython",
    "version": 3
   },
   "file_extension": ".py",
   "mimetype": "text/x-python",
   "name": "python",
   "nbconvert_exporter": "python",
   "pygments_lexer": "ipython3",
   "version": "3.8.3"
  }
 },
 "nbformat": 4,
 "nbformat_minor": 2
}
