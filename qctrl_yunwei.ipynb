{
 "cells": [
  {
   "cell_type": "code",
   "execution_count": 25,
   "metadata": {},
   "outputs": [],
   "source": [
    "# Import packages.\n",
    "import numpy as np\n",
    "import matplotlib.pyplot as plt\n",
    "import qctrlvisualizer\n",
    "import boulderopal as bo\n",
    "import qutip as qt\n",
    "import scipy.special as sp\n",
    "import qctrlvisualizer as qv\n",
    "import jsonpickle\n",
    "\n"
   ]
  },
  {
   "cell_type": "code",
   "execution_count": 26,
   "metadata": {},
   "outputs": [],
   "source": [
    "def pulses_der(x, paras,total_time,angle,anh):\n",
    "    control = -2*np.pi/total_time*(paras[0]-angle/2)*np.sin(2*np.pi/total_time*x)\n",
    "    for i in range(len(paras)):\n",
    "        if i==len(paras)-1:\n",
    "            control += -2*(i+2)*np.pi/total_time*(-paras[i])*np.sin(2*(i+2)*np.pi/total_time*x)\n",
    "        else:\n",
    "            control += -2*(i+2)*np.pi/total_time*(paras[i+1]-paras[i])*np.sin(2*(i+2)*np.pi/total_time*x)\n",
    "    return -control/(2*anh)/total_time\n",
    "# initial guess for x-quadrature control\n",
    "def pulses(x, paras,total_time,angle):\n",
    "    control = angle/2 + (paras[0]-angle/2)*np.cos(2*np.pi/total_time*x)\n",
    "    for i in range(len(paras)):\n",
    "        if i==len(paras)-1:\n",
    "            control += (-paras[i])*np.cos(2*(i+2)*np.pi/total_time*x)\n",
    "        else:\n",
    "            control += (paras[i+1]-paras[i])*np.cos(2*(i+2)*np.pi/total_time*x)\n",
    "    return control/total_time\n",
    "from itertools import product\n",
    "def initial_list(segment_count, duration, anh, angle, alpha_max):\n",
    "    # Define the range for a, b, c\n",
    "    parameter_range = np.arange(-6, 8, 2)\n",
    "    times = np.linspace(0, duration, segment_count)\n",
    "\n",
    "    # Generate all combinations of a, b, c\n",
    "    parameter_combinations = list(product(parameter_range, repeat=3))\n",
    "\n",
    "    # Initialize lists to store I_initials and Q_initials for each combination\n",
    "    I_initials_list = []\n",
    "    Q_initials_list = []\n",
    "\n",
    "    # Helper function to cap absolute values at alpha_max\n",
    "    def cap_amplitude(arr, max_val):\n",
    "        return np.clip(arr, -max_val, max_val)\n",
    "\n",
    "    # Generate I_initials and Q_initials for each combination\n",
    "    for a, b, c in parameter_combinations:\n",
    "        I_initials = pulses(times, (a, b, c), duration, angle)\n",
    "        Q_initials = pulses_der(times, (a, b, c), duration, angle, anh)\n",
    "        \n",
    "        # Cap the amplitudes at alpha_max\n",
    "        I_initials_capped = cap_amplitude(I_initials, alpha_max)\n",
    "        Q_initials_capped = cap_amplitude(Q_initials, alpha_max)\n",
    "        \n",
    "        I_initials_list.append(I_initials_capped)\n",
    "        Q_initials_list.append(Q_initials_capped)\n",
    "\n",
    "\n",
    "    return I_initials_list, Q_initials_list"
   ]
  },
  {
   "cell_type": "code",
   "execution_count": 27,
   "metadata": {},
   "outputs": [
    {
     "name": "stdout",
     "output_type": "stream",
     "text": [
      "Q-CTRL authentication successful!\n"
     ]
    }
   ],
   "source": [
    "bo.cloud.authenticate(api_key=\"L22oSBrX9bNTV7xvghbrMbI7JJeSTnI0u0gEolBYzrrJxhLOfu\")"
   ]
  },
  {
   "cell_type": "code",
   "execution_count": 28,
   "metadata": {},
   "outputs": [],
   "source": [
    "graph = bo.Graph()"
   ]
  },
  {
   "cell_type": "code",
   "execution_count": 29,
   "metadata": {},
   "outputs": [],
   "source": [
    "# Pulse parameters.\n",
    "#pulse amplitude constraint\n",
    "alpha_max = 2*np.pi* 15e6  # rad/s\n",
    "#np.pi/2 is pi/2 gate, np.pi would be pi gate\n",
    "angle = np.pi\n",
    "\n",
    "anh = -2 * np.pi * 245.3844e6\n",
    "segment_count = 40\n",
    "duration = segment_count * 1e-9  # s\n",
    "I_initials,Q_initials = initial_list(segment_count, duration, anh, angle,alpha_max)"
   ]
  },
  {
   "cell_type": "code",
   "execution_count": 30,
   "metadata": {},
   "outputs": [],
   "source": [
    "envelope_signal = graph.signals.cosine_pulse_pwc(\n",
    "    duration=duration, segment_count=segment_count, amplitude=1.0,flat_duration=0.9 * duration,\n",
    ")\n",
    "\n",
    "# Real PWC signal representing α(t).\n",
    "I = graph.real_optimizable_pwc_signal(\n",
    "    segment_count=segment_count,\n",
    "    duration=duration,\n",
    "    minimum=-alpha_max,\n",
    "    maximum=alpha_max,\n",
    "    initial_values= I_initials,\n",
    "    name=\"$\\\\I$\",\n",
    ")\n",
    "RI = graph.filter_and_resample_pwc(\n",
    "    pwc=I,\n",
    "    kernel=graph.sinc_convolution_kernel(5/duration*2*np.pi),\n",
    "    segment_count=segment_count,\n",
    "    name=\"$L(\\\\I)$\",\n",
    ")\n",
    "ORI = envelope_signal*RI\n",
    "ORI.name = \"$\\\\Omega L(\\\\I)$\"\n",
    "\n",
    "Q = graph.real_optimizable_pwc_signal(\n",
    "    segment_count=segment_count,\n",
    "    duration=duration,\n",
    "    minimum=-alpha_max,\n",
    "    maximum=alpha_max,\n",
    "    initial_values= Q_initials,\n",
    "    name=\"$\\\\Q$\",\n",
    ")\n",
    "RQ = graph.filter_and_resample_pwc(\n",
    "    pwc=Q,\n",
    "    kernel=graph.sinc_convolution_kernel(10/duration*2*np.pi),\n",
    "    segment_count=segment_count,\n",
    "    name=\"$L(\\\\Q)$\",\n",
    ")\n",
    "ORQ = envelope_signal*RQ\n",
    "ORQ.name = \"$\\\\Omega L(\\\\Q)$\""
   ]
  },
  {
   "cell_type": "code",
   "execution_count": 31,
   "metadata": {},
   "outputs": [],
   "source": [
    "dim = 5\n",
    "N_q = 5\n",
    "a_q = qt.destroy(N_q)\n",
    "n_q = a_q.dag() * a_q\n",
    "H0 =  1/2*anh* a_q.dag()**2 * a_q**2\n",
    "Hcx=a_q+a_q.dag()\n",
    "Hcy=-a_q*1j+1j*a_q.dag()\n",
    "H0=H0.full()\n",
    "Hcx=Hcx.full()\n",
    "Hcy=Hcy.full()\n",
    "detuning = 0.01*2*np.pi*1e9\n",
    "dephasing = detuning*a_q.dag()*a_q\n",
    "dephasing = dephasing.full()\n",
    "# Total Hamiltonian.\n",
    "hamiltonian = H0+ORI*Hcx+ORQ*Hcy"
   ]
  },
  {
   "cell_type": "code",
   "execution_count": 32,
   "metadata": {},
   "outputs": [],
   "source": [
    "import numpy as np\n",
    "def Rx(matrix,angle):\n",
    "    matrix[0,0]=np.cos(angle/2)\n",
    "    matrix[0,1]=-1j*np.sin(angle/2)\n",
    "    matrix[1,0]=-1j*np.sin(angle/2)\n",
    "    matrix[1,1]=np.cos(angle/2)\n",
    "    return matrix\n",
    "targets=np.zeros([dim ,dim ],dtype=complex)\n",
    "targets=Rx(targets,angle)\n",
    "#specify subspace fidelity\n",
    "qubit_projector = np.pad(np.eye(2), ((0, 3), (0, 3)), mode=\"constant\")\n",
    "target_operator = graph.target(\n",
    "    targets, filter_function_projector=qubit_projector\n",
    ")\n"
   ]
  },
  {
   "cell_type": "code",
   "execution_count": 33,
   "metadata": {},
   "outputs": [],
   "source": [
    "infidelity = graph.infidelity_pwc(\n",
    "    hamiltonian=hamiltonian,\n",
    "    target=target_operator,\n",
    "    name=\"infidelity\",\n",
    ")\n",
    "robust_infidelity = graph.infidelity_pwc(\n",
    "    hamiltonian=hamiltonian,\n",
    "    noise_operators=[np.array(dephasing)],\n",
    "    target=target_operator,\n",
    "    name=\"robust_infidelity\",\n",
    ")"
   ]
  },
  {
   "cell_type": "code",
   "execution_count": 34,
   "metadata": {},
   "outputs": [
    {
     "name": "stdout",
     "output_type": "stream",
     "text": [
      "Your task (action_id=\"2051021\") has started.\n",
      "Your task (action_id=\"2051021\") has completed.\n",
      "\n",
      "Optimized cost:\t3.522e-07\n"
     ]
    }
   ],
   "source": [
    "optimization_result = bo.run_optimization(\n",
    "    cost_node_name=\"robust_infidelity\",\n",
    "    output_node_names=[\"$\\\\I$\", \"$\\\\Q$\",\"$L(\\\\I)$\", \"$L(\\\\Q)$\",\"$\\\\Omega L(\\\\I)$\",\"$\\\\Omega L(\\\\Q)$\",],\n",
    "    graph=graph,\n",
    "    optimization_count=7**3,\n",
    ")\n",
    "\n",
    "print(f\"\\nOptimized cost:\\t{optimization_result['cost']:.3e}\")"
   ]
  },
  {
   "cell_type": "code",
   "execution_count": 35,
   "metadata": {},
   "outputs": [
    {
     "data": {
      "image/png": "[encoded data removed]",
      "text/plain": [
       "<Figure size 720x360 with 2 Axes>"
      ]
     },
     "metadata": {},
     "output_type": "display_data"
    }
   ],
   "source": [
    "\n",
    "qv.plot_controls(\n",
    "    {\n",
    "        \"RI\": optimization_result[\"output\"][\"$\\\\Omega L(\\\\I)$\"],\n",
    "        \"RQ\": optimization_result[\"output\"][\"$\\\\Omega L(\\\\Q)$\"],\n",
    "    },\n",
    "    polar=False,\n",
    ")"
   ]
  },
  {
   "cell_type": "code",
   "execution_count": 36,
   "metadata": {},
   "outputs": [],
   "source": [
    "def save_variable(file_name, var):\n",
    "    \"\"\"\n",
    "    Save a single variable to a file using jsonpickle.\n",
    "    \"\"\"\n",
    "    with open(file_name, \"w\") as file:\n",
    "        encoded_var = jsonpickle.encode(var, unpicklable=True)\n",
    "        file.write(encoded_var)\n",
    "\n",
    "\n",
    "def load_variable(file_name):\n",
    "    \"\"\"\n",
    "    Load a variable from a file encoded with jsonpickle.\n",
    "    \"\"\"\n",
    "    with open(file_name, \"r\") as file:\n",
    "        decoded_var = jsonpickle.decode(file.read())\n",
    "        return decoded_var"
   ]
  },
  {
   "cell_type": "code",
   "execution_count": 37,
   "metadata": {},
   "outputs": [],
   "source": [
    "import os\n",
    "resources_path = os.path.normpath(os.path.join(os.getcwd(), \"./\"))"
   ]
  },
  {
   "cell_type": "code",
   "execution_count": 38,
   "metadata": {},
   "outputs": [],
   "source": [
    "from datetime import datetime\n",
    "\n",
    "fname = \"pi_60ns_\" + datetime.now().strftime(\"%Y%m%d\")\n",
    "save_variable(resources_path+\"/\"+fname, optimization_result)"
   ]
  },
  {
   "cell_type": "code",
   "execution_count": null,
   "metadata": {},
   "outputs": [],
   "source": []
  }
 ],
 "metadata": {
  "kernelspec": {
   "display_name": "base",
   "language": "python",
   "name": "python3"
  },
  "language_info": {
   "codemirror_mode": {
    "name": "ipython",
    "version": 3
   },
   "file_extension": ".py",
   "mimetype": "text/x-python",
   "name": "python",
   "nbconvert_exporter": "python",
   "pygments_lexer": "ipython3",
   "version": "3.9.20"
  }
 },
 "nbformat": 4,
 "nbformat_minor": 2
}
